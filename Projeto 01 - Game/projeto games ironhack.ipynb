{
 "cells": [
  {
   "cell_type": "markdown",
   "metadata": {},
   "source": [
    "# Projeto Game (Rock, Scissor, Paper, Lizard e Spok)"
   ]
  },
  {
   "cell_type": "markdown",
   "metadata": {},
   "source": [
    "Optamos por construir o jogo Pedra, Papel e Tesoura, inserindo mais dois objetos: a Serpente e o Spok."
   ]
  },
  {
   "cell_type": "code",
   "execution_count": 1,
   "metadata": {},
   "outputs": [],
   "source": [
    "import random"
   ]
  },
  {
   "cell_type": "code",
   "execution_count": 2,
   "metadata": {},
   "outputs": [
    {
     "data": {
      "text/plain": [
       "<bound method Random.choice of <random.Random object at 0x000001A6BB03F7D8>>"
      ]
     },
     "execution_count": 2,
     "metadata": {},
     "output_type": "execute_result"
    }
   ],
   "source": [
    "random.choice"
   ]
  },
  {
   "cell_type": "code",
   "execution_count": 3,
   "metadata": {},
   "outputs": [],
   "source": [
    "n_rounds = 5"
   ]
  },
  {
   "cell_type": "markdown",
   "metadata": {},
   "source": [
    "Criamos uma lista com as variáveis que serão utilizadas no jogo"
   ]
  },
  {
   "cell_type": "code",
   "execution_count": 4,
   "metadata": {},
   "outputs": [],
   "source": [
    "gestures = ['pedra', 'papel', 'tesoura', 'serpente', 'spock']"
   ]
  },
  {
   "cell_type": "code",
   "execution_count": 5,
   "metadata": {},
   "outputs": [],
   "source": [
    "rounds_to_win = n_rounds-1"
   ]
  },
  {
   "cell_type": "markdown",
   "metadata": {},
   "source": [
    "Iniciando as variáveis do computador e do jogador"
   ]
  },
  {
   "cell_type": "code",
   "execution_count": 6,
   "metadata": {},
   "outputs": [],
   "source": [
    "cpu_score = 0\n",
    "player_score = 0"
   ]
  },
  {
   "cell_type": "code",
   "execution_count": 7,
   "metadata": {},
   "outputs": [
    {
     "data": {
      "text/plain": [
       "'papel'"
      ]
     },
     "execution_count": 7,
     "metadata": {},
     "output_type": "execute_result"
    }
   ],
   "source": [
    "random.choice(gestures)"
   ]
  },
  {
   "cell_type": "markdown",
   "metadata": {},
   "source": [
    "1. Função escolha_do_jogador: Esta função irá guardar a opção escolhida pelo jogador."
   ]
  },
  {
   "cell_type": "code",
   "execution_count": 8,
   "metadata": {},
   "outputs": [],
   "source": [
    "def escolha_do_jogador():\n",
    "    print('Escolha: pedra, papel, tesoura, serpente, spock')\n",
    "    x=input()\n",
    "    for item in x:\n",
    "        if x == 'pedra' or x == 'tesoura' or x == 'papel' or x == 'serpente' or x == 'spock':\n",
    "            return x\n",
    "        else:\n",
    "            x = input()"
   ]
  },
  {
   "cell_type": "code",
   "execution_count": null,
   "metadata": {},
   "outputs": [],
   "source": [
    "a = escolha_do_jogador()"
   ]
  },
  {
   "cell_type": "code",
   "execution_count": null,
   "metadata": {},
   "outputs": [],
   "source": [
    "print(a)"
   ]
  },
  {
   "cell_type": "markdown",
   "metadata": {},
   "source": [
    "2. Criação do dicionário: Optamos por criar um dicionário com todas as possibilidades de perda.\n",
    "   Não foi necessário a criação de outro dicionário, com as opções de ganho de cada jogada."
   ]
  },
  {
   "cell_type": "code",
   "execution_count": null,
   "metadata": {},
   "outputs": [],
   "source": [
    "dict_perde = {'pedra': ['papel', 'spock'], 'tesoura':['pedra','spock'], 'papel':['tesoura', 'serpente'], 'serpente':['pedra', 'tesoura'], 'spock':['papel', 'serpente']}\n",
    "\n",
    "\n",
    "dict_perde['pedra']\n"
   ]
  },
  {
   "cell_type": "code",
   "execution_count": null,
   "metadata": {},
   "outputs": [],
   "source": [
    "dict_perde.keys()"
   ]
  },
  {
   "cell_type": "markdown",
   "metadata": {},
   "source": [
    "3. O jogo só aceitará escolhas das opções que estão dentro do dicionário dict_perde.  "
   ]
  },
  {
   "cell_type": "markdown",
   "metadata": {},
   "source": [
    "  3.1 Criação de loop para percorrer os rounds de 1 até 5 com as condições do jogo."
   ]
  },
  {
   "cell_type": "markdown",
   "metadata": {},
   "source": [
    "3.2 Definimos a variável do computador como y, que foi definida como randômica e a variável x que é o imput do jogador."
   ]
  },
  {
   "cell_type": "markdown",
   "metadata": {},
   "source": [
    "3.3 Definimos as condições de quem será o ganhador de cada round."
   ]
  },
  {
   "cell_type": "markdown",
   "metadata": {},
   "source": [
    "3.4 Ao final do loop criamos uma somatória para a definição do ganhador ao final de 5 rounds."
   ]
  },
  {
   "cell_type": "code",
   "execution_count": null,
   "metadata": {},
   "outputs": [],
   "source": [
    "rounds = 0\n",
    "cpu_score = 0\n",
    "player_score = 0\n",
    "\n",
    "while rounds < 5:\n",
    "    rounds += 1\n",
    "    \n",
    "    \n",
    "    y = random.choice(list(dict_perde.keys()))\n",
    "    x = escolha_do_jogador()\n",
    "    \n",
    "    if x not in dict_perde.keys():\n",
    "        print('Escolha uma opção válida!')\n",
    "\n",
    "    else:\n",
    "    \n",
    "        print('Escolha do Computador: ' +y)\n",
    "    \n",
    "        if y in dict_perde[x]:\n",
    "            print('voce perdeu')\n",
    "            cpu_score += 1\n",
    "\n",
    "        elif x==y:\n",
    "            print('empate')\n",
    "\n",
    "        else:\n",
    "            print('voce ganhou')\n",
    "            player_score += 1\n",
    "            \n",
    "        print('Pontuação do comp: ' +str(cpu_score)+' Pontuação do Jogador: '+str(player_score))\n",
    "        print('Round: ' +str(rounds))\n",
    "    \n",
    "if cpu_score > player_score:\n",
    "    print('Computador Ganhou')\n",
    "    \n",
    "elif cpu_score < player_score:\n",
    "    print('Jogador Ganhou')\n",
    "    \n",
    "else:\n",
    "    print('Empate')\n",
    "    "
   ]
  },
  {
   "cell_type": "code",
   "execution_count": null,
   "metadata": {},
   "outputs": [],
   "source": []
  }
 ],
 "metadata": {
  "kernelspec": {
   "display_name": "Python 3",
   "language": "python",
   "name": "python3"
  },
  "language_info": {
   "codemirror_mode": {
    "name": "ipython",
    "version": 3
   },
   "file_extension": ".py",
   "mimetype": "text/x-python",
   "name": "python",
   "nbconvert_exporter": "python",
   "pygments_lexer": "ipython3",
   "version": "3.7.4"
  }
 },
 "nbformat": 4,
 "nbformat_minor": 4
}
